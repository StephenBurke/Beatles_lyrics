{
 "cells": [
  {
   "cell_type": "code",
   "execution_count": 8,
   "metadata": {},
   "outputs": [],
   "source": [
    "import numpy as np\n",
    "import pandas as pd\n",
    "import nltk\n",
    "from collections import Counter\n",
    "import matplotlib.pyplot as plt\n",
    "from matplotlib.pyplot import figure\n",
    "import requests\n",
    "from bs4 import BeautifulSoup"
   ]
  },
  {
   "cell_type": "code",
   "execution_count": 9,
   "metadata": {},
   "outputs": [],
   "source": [
    "URL0 = 'https://www.azlyrics.com/b/beatles.html'\n",
    "page0 = requests.get(URL0)"
   ]
  },
  {
   "cell_type": "code",
   "execution_count": 10,
   "metadata": {},
   "outputs": [],
   "source": [
    "soup0 = BeautifulSoup(page0.text)"
   ]
  },
  {
   "cell_type": "code",
   "execution_count": 71,
   "metadata": {},
   "outputs": [],
   "source": [
    "list_items = soup0.find('div', {'id': 'listAlbum'})\n",
    "items = list_items.find_all('a')\n",
    "titles = [a.text.lower() for a in items]\n",
    "titles = [a.replace(' ','') for a in titles]\n",
    "titles = [a.replace('(', '') for a in titles]\n",
    "titles = [a.replace(')', '') for a in titles]\n",
    "titles = [a.replace('.', '') for a in titles]\n",
    "titles = [a.replace(\"'\", \"\") for a in titles]\n",
    "titles = [a.replace('!', '') for a in titles]\n",
    "titles = [a.replace('-', '') for a in titles]\n",
    "titles = [a.replace('/', '') for a in titles]"
   ]
  },
  {
   "cell_type": "code",
   "execution_count": 72,
   "metadata": {},
   "outputs": [
    {
     "name": "stdout",
     "output_type": "stream",
     "text": [
      "['isawherstandingthere', 'misery', 'annagotohim', 'chains', 'boys', 'askmewhy', 'pleasepleaseme', 'lovemedo', 'psiloveyou', 'babyitsyou', 'doyouwanttoknowasecret', 'atasteofhoney', 'theresaplace', 'twistandshout', 'itwontbelong', 'allivegottodo', 'allmyloving', 'dontbotherme', 'littlechild', 'tilltherewasyou', 'pleasemisterpostman', 'rolloverbeethoven', 'holdmetight', 'youreallygotaholdonme', 'iwannabeyourman', 'devilinherheart', 'notasecondtime', 'moneythatswhatiwant', 'aharddaysnight', 'ishouldhaveknownbetter', 'ififell', 'imhappyjusttodancewithyou', 'andiloveher', 'tellmewhy', 'cantbuymelove', 'anytimeatall', 'illcryinstead', 'thingswesaidtoday', 'whenigethome', 'youcantdothat', 'illbeback', 'noreply', 'imaloser', 'babysinblack', 'rockandrollmusic', 'illfollowthesun', 'mrmoonlight', 'medley:kansascityhey,hey,hey,hey', 'eightdaysaweek', 'wordsoflove', 'honeydont', 'everylittlething', 'idontwanttospoiltheparty', 'whatyouredoing', 'everybodystryingtobemybaby', 'help', 'thenightbefore', 'youvegottohideyourloveaway', 'ineedyou', 'anothergirl', 'youregoingtolosethatgirl', 'tickettoride', 'actnaturally', 'itsonlylove', 'youlikemetoomuch', 'tellmewhatyousee', 'ivejustseenaface', 'yesterday', 'dizzymisslizzy', 'drivemycar', 'norwegianwoodthisbirdhasflown', 'youwontseeme', 'nowhereman', 'thinkforyourself', 'theword', 'michelle', 'whatgoeson', 'girl', 'imlookingthroughyou', 'inmylife', 'wait', 'ifineededsomeone', 'runforyourlife', 'taxman', 'eleanorrigby', 'imonlysleeping', 'loveyouto', 'here,thereandeverywhere', 'yellowsubmarine', 'shesaid,shesaid', 'gooddaysunshine', 'andyourbirdcansing', 'fornoone', 'doctorrobert', 'iwanttotellyou', 'gottogetyouintomylife', 'tomorrowneverknows', 'sgtpepperslonelyheartsclubband', 'withalittlehelpfrommyfriends', 'lucyintheskywithdiamonds', 'gettingbetter', 'fixingahole', 'shesleavinghome', 'beingforthebenefitofmrkite', 'withinyouwithoutyou', 'whenimsixtyfour', 'lovelyrita', 'goodmorning,goodmorning', 'sgtpepperslonelyheartsclubbandreprise', 'adayinthelife', 'magicalmysterytour', 'thefoolonthehill', 'flying', 'bluejayway', 'yourmothershouldknow', 'iamthewalrus', 'hello,goodbye', 'strawberryfieldsforever', 'pennylane', 'baby,yourearichman', 'allyouneedislove', 'backintheussr', 'dearprudence', 'glassonion', 'obladi,oblada', 'wildhoneypie', 'thecontinuingstoryofbungalowbill', 'whilemyguitargentlyweeps', 'happinessisawarmgun', 'marthamydear', 'imsotired', 'blackbird', 'piggies', 'rockyraccoon', 'dontpassmeby', 'whydontwedoitintheroad?', 'iwill', 'julia', 'birthday', 'yerblues', 'mothernaturesson', 'everybodysgotsomethingtohideexceptmeandmymonkey', 'sexysadie', 'helterskelter', 'long,long,long', 'revolution1', 'honeypie', 'savoytruffle', 'crybabycry', 'revolution9', 'goodnight', 'yellowsubmarine', 'onlyanorthernsong', 'alltogethernow', 'heybulldog', 'itsalltoomuch', 'allyouneedislove', 'pepperland', 'medley:seaoftime&seaofholes', 'seaofmonsters', 'marchofthemeanies', 'pepperlandlaidwaste', 'yellowsubmarineinpepperland', 'cometogether', 'something', 'maxwellssilverhammer', 'ohdarling', 'octopussgarden', 'iwantyoushessoheavy', 'herecomesthesun', 'because', 'younevergivemeyourmoney', 'sunking', 'meanmrmustard', 'polythenepam', 'shecameinthroughthebathroomwindow', 'goldenslumbers', 'carrythatweight', 'theend', 'hermajesty', 'twoofus', 'digapony', 'acrosstheuniverse', 'imemine', 'digit', 'letitbe', 'maggiemae', 'ivegotafeeling', 'oneafter909', 'thelongandwindingroad', 'foryoublue', 'getback', 'lovemedo', 'frommetoyou', 'thankyougirl', 'shelovesyou', 'illgetyou', 'iwanttoholdyourhand', 'thisboy', 'komm,gibmirdeinehand', 'sieliebtdich', 'longtallsally', 'icallyourname', 'slowdown', 'matchbox', 'ifeelfine', 'shesawoman', 'badboy', 'yesitis', 'imdown', 'daytripper', 'wecanworkitout', 'paperbackwriter', 'rain', 'ladymadonna', 'theinnerlight', 'heyjude', 'revolution', 'getback', 'dontletmedown', 'theballadofjohnandyoko', 'oldbrownshoe', 'acrosstheuniverse', 'letitbe', 'youknowmynamelookupthenumber', 'beatlegreetings', 'fromustoyou', 'ridingonabus', 'igotawoman', 'toomuchmonkeybusiness', 'keepyourhandsoffmybaby', 'illbeonmyway', 'youngblood', 'ashotofrhythmandblues', 'suretofallinlovewithyou', 'someotherguy', 'thankyougirl', 'shalalalala', 'babyitsyou', 'thatsalrightmama', 'carol', 'soldieroflove', 'alittlerhyme', 'clarabella', 'imgonnasitrightdownandcryoveryou', 'crying,waiting,hoping', 'dearwack', 'youreallygotaholdonme', 'toknowheristoloveher', 'atasteofhoney', 'longtallsally', 'isawherstandingthere', 'thehoneymoonsong', 'johnnybgoode', 'memphis,tennessee', 'lucille', 'cantbuymelove', 'fromflufftoyou', 'tilltherewasyou', 'crinskdeenight', 'aharddaysnight', 'haveabanana', 'iwannabeyourman', 'justarumour', 'rolloverbeethoven', 'allmyloving', 'thingswesaidtoday', 'shesawoman', 'sweetlittlesixteen', '1822', 'lonesometearsinmyeyes', 'nothinshakin', 'thehippyhippyshake', 'gladallover', 'ijustdontunderstand', 'sohowcomenoonelovesme', 'ifeelfine', 'imaloser', 'everybodystryingtobemybaby', 'rockandrollmusic', 'tickettoride', 'dizzymisslizzy', 'medley:kansascityhey,hey,hey,hey', 'setfiretothatlot', 'matchbox', 'iforgottoremembertoforget', 'lovethesegoonshows', 'igottofindmybaby', 'oohmysoul', 'oohmyarms', 'donteverchange', 'slowdown', 'honeydont', 'lovemedo', 'freeasabird', 'thatllbetheday', 'inspiteofallthedanger', 'hallelujah,iloveherso', 'youllbemine', 'mybonnie', 'aintshesweet', 'searchin', 'threecoolcats', 'thesheikofaraby', 'likedreamersdo', 'hellolittlegirl', 'besamemucho', 'lovemedo', 'howdoyoudoit', 'pleasepleaseme', 'oneafter909', 'lendmeyourcomb', 'illgetyou', 'isawherstandingthere', 'frommetoyou', 'moneythatswhatiwant', 'youreallygotaholdonme', 'rolloverbeethoven', 'shelovesyou', 'tilltherewasyou', 'twistandshout', 'thisboy', 'iwanttoholdyourhand', 'moonlightbay', 'cantbuymelove', 'allmyloving', 'youcantdothat', 'andiloveher', 'aharddaysnight', 'iwannabeyourman', 'longtallsally', 'boys', 'shout', 'illbeback', 'youknowwhattodo', 'noreply', 'mrmoonlight', 'leavemykittenalone', 'eightdaysaweek', 'medley:kansascityhey,hey,hey,hey', 'reallove', 'yesitis', 'imdown', 'youvegottohideyourloveaway', 'ifyouvegottrouble', 'thatmeansalot', 'yesterday', 'itsonlylove', 'ifeelfine', 'tickettoride', 'yesterday', 'help', 'everybodystryingtobemybaby', 'norwegianwoodthisbirdhasflown', 'imlookingthroughyou', 'tomorrowneverknows', 'gottogetyouintomylife', 'andyourbirdcansing', 'taxman', 'eleanorrigby', 'imonlysleeping', 'rockandrollmusic', 'shesawoman', 'strawberryfieldsforever', 'pennylane', 'adayinthelife', 'goodmorning,goodmorning', 'onlyanorthernsong', 'beingforthebenefitofmrkite', 'lucyintheskywithdiamonds', 'withinyouwithoutyou', 'sgtpepperslonelyheartsclubbandreprise', 'youknowmynamelookupthenumber', 'iamthewalrus', 'thefoolonthehill', 'yourmothershouldknow', 'hello,goodbye', 'ladymadonna', 'acrosstheuniverse', 'happinessisawarmgun', 'helterskelter', 'meanmrmustard', 'polythenepam', 'glassonion', 'junk', 'piggies', 'honeypie', 'dontpassmeby', 'obladi,oblada', 'goodnight', 'crybabycry', 'blackbird', 'sexysadie', 'whilemyguitargentlyweeps', 'heyjude', 'notguilty', 'mothernaturesson', 'rockyraccoon', 'whatsthenewmaryjane', 'stepinsidelovelosparanoias', 'imsotired', 'iwill', 'whydontwedoitintheroad?', 'julia', 'ivegotafeeling', 'shecameinthroughthebathroomwindow', 'digapony', 'twoofus', 'foryoublue', 'teddyboy', 'medley:ripitupshake,rattleandrollbluesuedeshoes', 'thelongandwindingroad', 'ohdarling', 'allthingsmustpass', 'mailman,bringmenomoreblues', 'getback', 'oldbrownshoe', 'octopussgarden', 'maxwellssilverhammer', 'something', 'cometogether', 'comeandgetit', 'aintshesweet', 'because', 'letitbe', 'imemine', 'theend', 'canyoutakemeback']\n"
     ]
    }
   ],
   "source": [
    "#https://www.azlyrics.com/lyrics/beatles/isawherstandingthere.html\n",
    "urls = []\n",
    "url_base = 'https://www.azlyrics.com/lyrics/beatles/.html'\n",
    "\n",
    "print(titles)\n",
    "for q in titles:\n",
    "    "
   ]
  },
  {
   "cell_type": "code",
   "execution_count": null,
   "metadata": {},
   "outputs": [],
   "source": []
  }
 ],
 "metadata": {
  "kernelspec": {
   "display_name": "Python 3",
   "language": "python",
   "name": "python3"
  },
  "language_info": {
   "codemirror_mode": {
    "name": "ipython",
    "version": 3
   },
   "file_extension": ".py",
   "mimetype": "text/x-python",
   "name": "python",
   "nbconvert_exporter": "python",
   "pygments_lexer": "ipython3",
   "version": "3.7.1"
  }
 },
 "nbformat": 4,
 "nbformat_minor": 4
}
