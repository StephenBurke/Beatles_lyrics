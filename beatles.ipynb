{
 "cells": [
  {
   "cell_type": "code",
   "execution_count": 1,
   "metadata": {},
   "outputs": [],
   "source": [
    "import numpy as np\n",
    "import pandas as pd\n",
    "import nltk\n",
    "from collections import Counter\n",
    "import matplotlib.pyplot as plt\n",
    "from matplotlib.pyplot import figure\n",
    "import requests\n",
    "from bs4 import BeautifulSoup"
   ]
  },
  {
   "cell_type": "code",
   "execution_count": 2,
   "metadata": {},
   "outputs": [],
   "source": [
    "URL0 = 'https://www.azlyrics.com/b/beatles.html'\n",
    "page0 = requests.get(URL0)"
   ]
  },
  {
   "cell_type": "code",
   "execution_count": 3,
   "metadata": {},
   "outputs": [],
   "source": [
    "soup0 = BeautifulSoup(page0.text)"
   ]
  },
  {
   "cell_type": "code",
   "execution_count": 11,
   "metadata": {},
   "outputs": [],
   "source": [
    "list_items = soup0.find('div', {'id': 'listAlbum'})\n",
    "items = list_items.find_all('a')\n",
    "titles = [a.text.lower() for a in items]\n",
    "titles = [a.replace(' ','') for a in titles]\n",
    "titles = [a.replace('(', '') for a in titles]\n",
    "titles = [a.replace(')', '') for a in titles]\n",
    "titles = [a.replace('.', '') for a in titles]\n",
    "titles = [a.replace(\"'\", \"\") for a in titles]\n",
    "titles = [a.replace('!', '') for a in titles]\n",
    "titles = [a.replace('-', '') for a in titles]\n",
    "titles = [a.replace('/', '') for a in titles]\n",
    "titles = [a.replace(',', '') for a in titles]\n",
    "titles = [a.replace('/', '') for a in titles]\n",
    "titles = [a.replace(':', '') for a in titles]"
   ]
  },
  {
   "cell_type": "code",
   "execution_count": 14,
   "metadata": {},
   "outputs": [],
   "source": [
    "#https://www.azlyrics.com/lyrics/beatles/isawherstandingthere.html\n",
    "urls = []\n",
    "url_base = 'https://www.azlyrics.com/lyrics/beatles/'\n",
    "url_tag = '.html'\n",
    "url_mids = []\n",
    "#print(titles)\n",
    "for q in titles:\n",
    "    url_mids.append(q)"
   ]
  },
  {
   "cell_type": "code",
   "execution_count": null,
   "metadata": {},
   "outputs": [],
   "source": []
  }
 ],
 "metadata": {
  "kernelspec": {
   "display_name": "Python 3",
   "language": "python",
   "name": "python3"
  },
  "language_info": {
   "codemirror_mode": {
    "name": "ipython",
    "version": 3
   },
   "file_extension": ".py",
   "mimetype": "text/x-python",
   "name": "python",
   "nbconvert_exporter": "python",
   "pygments_lexer": "ipython3",
   "version": "3.7.4"
  }
 },
 "nbformat": 4,
 "nbformat_minor": 4
}
